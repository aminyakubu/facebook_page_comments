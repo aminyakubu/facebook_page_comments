{
 "cells": [
  {
   "cell_type": "code",
   "execution_count": 3,
   "metadata": {},
   "outputs": [],
   "source": [
    "### Importing the required packages and setting global options\n",
    "\n",
    "import simplejson as json\n",
    "import urllib\n",
    "import pprint\n",
    "import pandas as pd\n",
    "from pandas.io.json import json_normalize\n",
    "\n",
    "pd.set_option('display.max_colwidth', -1)"
   ]
  },
  {
   "cell_type": "code",
   "execution_count": null,
   "metadata": {},
   "outputs": [],
   "source": [
    "\n",
    "def  facebookComments (pageID, appended_data):\n",
    "    \n",
    "    # get from GraphAPI website\n",
    "    path = '/' + pageID + '/posts'\n",
    "    \n",
    "    #url = \"{host}{path}?{params}&{limit}\".format(host=host, path=path, params=params, limit=limit)\n",
    "    \n",
    "    url = \"{host}{path}?{params}&{limit}&{since}&{until}\".format(host=host, path=path, params=params, limit=limit, since=since, until=until)\n",
    "    \n",
    "    # open the URL and read the response\n",
    "    resp = urllib.request.urlopen(url).read()\n",
    "    \n",
    "    # convert the returned JSON string to a Python datatype \n",
    "    page = json.loads(resp)\n",
    "    \n",
    "    # Get the length of json data\n",
    "    datalen = len(page['data'])\n",
    "\n",
    "    # create an empty ID list\n",
    "    idNum = []\n",
    "    \n",
    "    # add id numbers for facebook post to ID list\n",
    "    for i in range(datalen):\n",
    "        idNum.append(page['data'][i]['id'])\n",
    "\n",
    "    # for every post id number, go in and retrieve the comments\n",
    "    for j in idNum:\n",
    "        samplepath = '/' + j + '/comments'\n",
    "        sampleurl = \"{host}{path}?{params}\".format(host=host, path=samplepath, params=params)\n",
    "    \n",
    "        sampleresp = urllib.request.urlopen(sampleurl).read()\n",
    "        samplemessages = json.loads(sampleresp)\n",
    "    \n",
    "        #create a dataframe out of the json file for the comments and append to empty data list\n",
    "        sampledf = pd.DataFrame.from_dict(json_normalize(samplemessages['data']), orient='columns')\n",
    "        appended_data.append(sampledf)\n",
    "    \n",
    "    return (appended_data)\n",
    "\n",
    "\n"
   ]
  },
  {
   "cell_type": "code",
   "execution_count": null,
   "metadata": {},
   "outputs": [],
   "source": [
    "# make Facebook access token variable \n",
    "ACCESS_TOKEN = \"INSERT ACCESS TOKEN HERE\"\n",
    "\n",
    "# build the URL for the API endpoint\n",
    "host = \"https://graph.facebook.com\"\n",
    "params = urllib.parse.urlencode({\"access_token\": ACCESS_TOKEN})\n",
    "limit = \"limit=100\" \n",
    "since = \"since=2015-01-01\" # YOU CAN CHANGE THE DOWNLOAD PERIOD\n",
    "until = \"until=2016-05-05\"\n",
    "pageID = \"INSERT FACEBOOK PAGE ID NUMBER HERE\"\n",
    "\n",
    "# create an empty data list\n",
    "appended_data = []\n",
    "\n",
    "facebookComments(pageID, appended_data)\n",
    "\n",
    "#take the data list and paste together all data into one dataframe\n",
    "comment_data = pd.concat(appended_data, axis=0)\n",
    "\n",
    "comment_data"
   ]
  },
  {
   "cell_type": "code",
   "execution_count": 10,
   "metadata": {},
   "outputs": [],
   "source": [
    "# Download the comment as CSV file\n",
    "\n",
    "comment_data.to_csv('comments.csv')"
   ]
  },
  {
   "cell_type": "code",
   "execution_count": null,
   "metadata": {},
   "outputs": [],
   "source": []
  }
 ],
 "metadata": {
  "kernelspec": {
   "display_name": "Python 3",
   "language": "python",
   "name": "python3"
  },
  "language_info": {
   "codemirror_mode": {
    "name": "ipython",
    "version": 3
   },
   "file_extension": ".py",
   "mimetype": "text/x-python",
   "name": "python",
   "nbconvert_exporter": "python",
   "pygments_lexer": "ipython3",
   "version": "3.6.5"
  }
 },
 "nbformat": 4,
 "nbformat_minor": 2
}
